{
 "cells": [
  {
   "cell_type": "markdown",
   "id": "7f6c490e-953f-487f-9820-85a832dc62d3",
   "metadata": {},
   "source": [
    "# PTR Submit"
   ]
  },
  {
   "cell_type": "code",
   "execution_count": 1,
   "id": "d2e99909-dce4-45af-8a2b-3241128fb6f1",
   "metadata": {},
   "outputs": [],
   "source": [
    "import numpy as np\n",
    "import pandas as pd"
   ]
  },
  {
   "cell_type": "code",
   "execution_count": 2,
   "id": "f23f6a4a-33d1-47fb-a9f7-8ac6664cde42",
   "metadata": {},
   "outputs": [],
   "source": [
    "label2num = {'no_relation': 0, 'org:top_members/employees': 1, 'org:members': 2, 'org:product': 3, 'per:title': 4, 'org:alternate_names': 5, 'per:employee_of': 6, 'org:place_of_headquarters': 7, 'per:product': 8, 'org:number_of_employees/members': 9, 'per:children': 10, 'per:place_of_residence': 11, 'per:alternate_names': 12, 'per:other_family': 13, 'per:colleagues': 14, 'per:origin': 15, 'per:siblings': 16, 'per:spouse': 17, 'org:founded': 18, 'org:political/religious_affiliation': 19, 'org:member_of': 20, 'per:parents': 21, 'org:dissolved': 22, 'per:schools_attended': 23, 'per:date_of_death': 24, 'per:date_of_birth': 25, 'per:place_of_birth': 26, 'per:place_of_death': 27, 'org:founded_by': 28, 'per:religion': 29}\n",
    "num2label = {v:k for k, v in label2num.items()}"
   ]
  },
  {
   "cell_type": "code",
   "execution_count": 3,
   "id": "4e71b0af-5956-4bba-a616-6200f54e4728",
   "metadata": {},
   "outputs": [],
   "source": [
    "def softmax(arr: np.ndarray, axis: int = -1):\n",
    "    c = arr.max(axis=axis, keepdims=True)\n",
    "    s = arr - c\n",
    "    nominator = np.exp(s)\n",
    "    denominator = nominator.sum(axis=axis, keepdims=True)\n",
    "    probs = nominator / denominator\n",
    "    return probs"
   ]
  },
  {
   "cell_type": "code",
   "execution_count": 4,
   "id": "08711955-0259-4cfb-8df7-08d3196c1172",
   "metadata": {},
   "outputs": [],
   "source": [
    "scores = np.load('scores.npy')\n",
    "all_labels = np.load('all_labels.npy')\n",
    "output_prob = softmax(scores)"
   ]
  },
  {
   "cell_type": "code",
   "execution_count": 6,
   "id": "1bc1e2f1-a3de-480a-ac1a-de41d73503e7",
   "metadata": {},
   "outputs": [
    {
     "data": {
      "text/plain": [
       "(7765, 30)"
      ]
     },
     "execution_count": 6,
     "metadata": {},
     "output_type": "execute_result"
    }
   ],
   "source": [
    "scores.shape"
   ]
  },
  {
   "cell_type": "code",
   "execution_count": 22,
   "id": "9ea209f2-c35f-45d3-9821-d5dbe6fe34d8",
   "metadata": {},
   "outputs": [],
   "source": [
    "pred_answer = scores.argmax(-1)"
   ]
  },
  {
   "cell_type": "code",
   "execution_count": 11,
   "id": "ecbda4b2-304a-466c-b13f-57df50a9000c",
   "metadata": {},
   "outputs": [],
   "source": [
    "test_dataset_dir = \"/opt/ml/dataset/test/test_data.csv\""
   ]
  },
  {
   "cell_type": "code",
   "execution_count": 26,
   "id": "b9aedc25-8123-479a-a0d8-448b0dbdcb6b",
   "metadata": {},
   "outputs": [],
   "source": [
    "df_test = pd.read_csv(test_dataset_dir)\n",
    "test_id = df_test['id'].values"
   ]
  },
  {
   "cell_type": "code",
   "execution_count": 23,
   "id": "c522d53f-9930-43f9-a0b0-fcfc49f9a069",
   "metadata": {},
   "outputs": [
    {
     "data": {
      "text/plain": [
       "'/opt/ml/klue-level2-nlp-14'"
      ]
     },
     "execution_count": 23,
     "metadata": {},
     "output_type": "execute_result"
    }
   ],
   "source": [
    "import os\n",
    "os.getcwd()"
   ]
  },
  {
   "cell_type": "code",
   "execution_count": 87,
   "id": "1a17c777-5855-4b5a-aeaa-e04413d5bc83",
   "metadata": {},
   "outputs": [],
   "source": [
    "## make csv file with predicted answer\n",
    "#########################################################\n",
    "# 아래 directory와 columns의 형태는 지켜주시기 바랍니다.\n",
    "output = pd.DataFrame({'id':test_id,'pred_label':pred_answer,'probs':output_prob.tolist(),})\n",
    "output.pred_label = output.pred_label.map(num2label)\n",
    "output.to_csv('roberta-large_bs64_maxlen139_ws100_lr3e-05_lrt1e-05.csv', index=False) # 최종적으로 완성된 예측한 라벨 csv 파일 형태로 저장.\n",
    "#### 필수!! ##############################################"
   ]
  },
  {
   "cell_type": "markdown",
   "id": "f96d30b6-1f71-4422-8699-ce3380f0a188",
   "metadata": {},
   "source": [
    "---"
   ]
  },
  {
   "cell_type": "markdown",
   "id": "83cc3610-7507-4513-b209-13c31e3fca01",
   "metadata": {},
   "source": [
    "# 비교"
   ]
  },
  {
   "cell_type": "code",
   "execution_count": 32,
   "id": "463b2569-bc2b-4cee-84ab-21bb1d2acec0",
   "metadata": {},
   "outputs": [],
   "source": [
    "df_best = pd.read_csv('ensemble.csv')"
   ]
  },
  {
   "cell_type": "code",
   "execution_count": 35,
   "id": "35d744f8-c861-4dc2-b053-72ebbd792226",
   "metadata": {},
   "outputs": [],
   "source": [
    "df_best.pred_label = df_best.pred_label.map(label2num)"
   ]
  },
  {
   "cell_type": "code",
   "execution_count": 37,
   "id": "bae81e41-bd5e-46fa-aec6-8c9d5bcf52a4",
   "metadata": {},
   "outputs": [
    {
     "data": {
      "text/plain": [
       "0.8739214423696072"
      ]
     },
     "execution_count": 37,
     "metadata": {},
     "output_type": "execute_result"
    }
   ],
   "source": [
    "(df_best.pred_label == output.pred_label).sum() / len(df_best)"
   ]
  },
  {
   "cell_type": "code",
   "execution_count": 38,
   "id": "f9ead728-ac50-453a-9d95-91b0755d0e19",
   "metadata": {},
   "outputs": [],
   "source": [
    "import seaborn as sns"
   ]
  },
  {
   "cell_type": "code",
   "execution_count": 40,
   "id": "017c3cfc-f442-415d-8bd5-706df180925e",
   "metadata": {},
   "outputs": [],
   "source": [
    "import matplotlib.pyplot as plt"
   ]
  },
  {
   "cell_type": "code",
   "execution_count": 46,
   "id": "6232a581-72ff-4880-a75e-a93fefdccfd7",
   "metadata": {},
   "outputs": [
    {
     "data": {
      "text/plain": [
       "<matplotlib.image.AxesImage at 0x7f8b741a73a0>"
      ]
     },
     "execution_count": 46,
     "metadata": {},
     "output_type": "execute_result"
    },
    {
     "data": {
      "image/png": "[encoded data removed]",
      "text/plain": [
       "<Figure size 432x288 with 1 Axes>"
      ]
     },
     "metadata": {
      "needs_background": "light"
     },
     "output_type": "display_data"
    }
   ],
   "source": [
    "plt.imshow(output_prob[:50, :])"
   ]
  },
  {
   "cell_type": "code",
   "execution_count": 47,
   "id": "b31f1920-8cb8-4b54-80ab-fb6a1ab9ecff",
   "metadata": {},
   "outputs": [
    {
     "data": {
      "text/plain": [
       "<matplotlib.image.AxesImage at 0x7f8b740abeb0>"
      ]
     },
     "execution_count": 47,
     "metadata": {},
     "output_type": "execute_result"
    },
    {
     "data": {
      "image/png": "[encoded data removed]",
      "text/plain": [
       "<Figure size 432x288 with 1 Axes>"
      ]
     },
     "metadata": {
      "needs_background": "light"
     },
     "output_type": "display_data"
    }
   ],
   "source": [
    "plt.imshow(output_prob[50:100, :])"
   ]
  },
  {
   "cell_type": "code",
   "execution_count": 63,
   "id": "941a2314-861b-4b1a-a1a9-ac13130d5f90",
   "metadata": {},
   "outputs": [],
   "source": [
    "df_best.probs = df_best.probs.apply(lambda x : eval(x))"
   ]
  },
  {
   "cell_type": "code",
   "execution_count": 69,
   "id": "6dbff4c1-8651-4abd-8e61-c43daf631a5d",
   "metadata": {},
   "outputs": [],
   "source": [
    "df_best_probs = np.array([ np.array(i) for i in df_best.probs])"
   ]
  },
  {
   "cell_type": "code",
   "execution_count": 80,
   "id": "7e19b9ec-79a5-4db7-a4b8-ceb7427d3406",
   "metadata": {},
   "outputs": [],
   "source": [
    "def show(s, e):\n",
    "    plt.imshow((output_prob[s:e, :] / df_best_probs[s:e, :]))"
   ]
  },
  {
   "cell_type": "code",
   "execution_count": 81,
   "id": "acaa1159-9122-4a83-b7b2-3c29f1436762",
   "metadata": {},
   "outputs": [
    {
     "data": {
      "image/png": "[encoded data removed]",
      "text/plain": [
       "<Figure size 432x288 with 1 Axes>"
      ]
     },
     "metadata": {
      "needs_background": "light"
     },
     "output_type": "display_data"
    }
   ],
   "source": [
    "show(50, 100)"
   ]
  },
  {
   "cell_type": "code",
   "execution_count": 82,
   "id": "3274f434-2a55-474f-87d3-958ac7a99b90",
   "metadata": {},
   "outputs": [
    {
     "data": {
      "image/png": "[encoded data removed]",
      "text/plain": [
       "<Figure size 432x288 with 1 Axes>"
      ]
     },
     "metadata": {
      "needs_background": "light"
     },
     "output_type": "display_data"
    }
   ],
   "source": [
    "show(100, 150)"
   ]
  },
  {
   "cell_type": "code",
   "execution_count": 72,
   "id": "bf8666b1-0b43-4507-bf92-a7c3371966c9",
   "metadata": {},
   "outputs": [
    {
     "data": {
      "text/plain": [
       "<matplotlib.image.AxesImage at 0x7f8b6e1f7bb0>"
      ]
     },
     "execution_count": 72,
     "metadata": {},
     "output_type": "execute_result"
    },
    {
     "data": {
      "image/png": "[encoded data removed]",
      "text/plain": [
       "<Figure size 432x288 with 1 Axes>"
      ]
     },
     "metadata": {
      "needs_background": "light"
     },
     "output_type": "display_data"
    }
   ],
   "source": [
    "plt.imshow(df_best_probs[:50, :])"
   ]
  }
 ],
 "metadata": {
  "kernelspec": {
   "display_name": "basic",
   "language": "python",
   "name": "basic"
  },
  "language_info": {
   "codemirror_mode": {
    "name": "ipython",
    "version": 3
   },
   "file_extension": ".py",
   "mimetype": "text/x-python",
   "name": "python",
   "nbconvert_exporter": "python",
   "pygments_lexer": "ipython3",
   "version": "3.8.11"
  }
 },
 "nbformat": 4,
 "nbformat_minor": 5
}
